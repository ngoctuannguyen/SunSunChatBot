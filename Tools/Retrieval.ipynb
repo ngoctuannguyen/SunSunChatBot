{
 "cells": [
  {
   "cell_type": "code",
   "execution_count": 3,
   "metadata": {},
   "outputs": [],
   "source": [
    "import os, json, torch, Config, DataLoader\n",
    "\n",
    "Data = DataLoader.JsonLoader().Get_Data()"
   ]
  },
  {
   "cell_type": "code",
   "execution_count": 5,
   "metadata": {},
   "outputs": [
    {
     "name": "stderr",
     "output_type": "stream",
     "text": [
      "/home/iec/anaconda3/envs/agent/lib/python3.10/site-packages/tqdm/auto.py:21: TqdmWarning: IProgress not found. Please update jupyter and ipywidgets. See https://ipywidgets.readthedocs.io/en/stable/user_install.html\n",
      "  from .autonotebook import tqdm as notebook_tqdm\n",
      "/home/iec/anaconda3/envs/agent/lib/python3.10/site-packages/huggingface_hub/file_download.py:1132: FutureWarning: `resume_download` is deprecated and will be removed in version 1.0.0. Downloads always resume when possible. If you want to force a new download, use `force_download=True`.\n",
      "  warnings.warn(\n",
      "/home/iec/anaconda3/envs/agent/lib/python3.10/site-packages/huggingface_hub/file_download.py:1132: FutureWarning: `resume_download` is deprecated and will be removed in version 1.0.0. Downloads always resume when possible. If you want to force a new download, use `force_download=True`.\n",
      "  warnings.warn(\n"
     ]
    }
   ],
   "source": [
    "from langchain_community.embeddings import HuggingFaceBgeEmbeddings\n",
    "import torch\n",
    "device = torch.device(\"cuda\" if torch.cuda.is_available() else \"cpu\")\n",
    "embeddings = HuggingFaceBgeEmbeddings(\n",
    "    model_name=\"BAAI/bge-m3\",\n",
    "    model_kwargs={\"trust_remote_code\": True, 'device': device},\n",
    "    encode_kwargs = {\"normalize_embeddings\": True},\n",
    "    )"
   ]
  },
  {
   "cell_type": "code",
   "execution_count": 6,
   "metadata": {},
   "outputs": [],
   "source": [
    "from qdrant_client import QdrantClient\n",
    "from langchain_community.vectorstores import Qdrant\n",
    "\n",
    "qdrant_client = QdrantClient(\n",
    "    url=\"https://816728f4-d70e-4ae8-9917-4888eb6bc5d1.us-east4-0.gcp.cloud.qdrant.io:6333\", \n",
    "    api_key=\"Wmy6vlu1kICXewNIBXG6ce6JS8z_NKxp38xYf_IFQErhWZ9AIZUWHg\",\n",
    ")\n",
    "database = Qdrant(client=qdrant_client, embeddings=embeddings, collection_name=\"Ami\")"
   ]
  },
  {
   "cell_type": "code",
   "execution_count": 9,
   "metadata": {},
   "outputs": [],
   "source": [
    "# qdrant = Qdrant.from_documents(\n",
    "#     Data,\n",
    "#     embeddings,\n",
    "#     prefer_grpc=False,\n",
    "#     collection_name=\"Ami\",\n",
    "#     api_key=\"Wmy6vlu1kICXewNIBXG6ce6JS8z_NKxp38xYf_IFQErhWZ9AIZUWHg\",\n",
    "#     url=\"https://816728f4-d70e-4ae8-9917-4888eb6bc5d1.us-east4-0.gcp.cloud.qdrant.io:6333\",\n",
    "# )\n",
    "# # db = Qdrant(client=qdrant_client, embeddings=embedding_function, collection_name=cfg.QDRANT_COLLECTION_NAME)"
   ]
  },
  {
   "cell_type": "code",
   "execution_count": 7,
   "metadata": {},
   "outputs": [],
   "source": [
    "retriever = database.as_retriever(search_kwargs={\"k\": 20})\n",
    "text = retriever.get_relevant_documents(\"email thầy trần tiến công là gì?\")\n"
   ]
  },
  {
   "cell_type": "code",
   "execution_count": 11,
   "metadata": {},
   "outputs": [],
   "source": [
    "from langchain.retrievers.document_compressors import CrossEncoderReranker\n",
    "from langchain_community.cross_encoders import HuggingFaceCrossEncoder\n",
    "from langchain.retrievers import ContextualCompressionRetriever\n",
    "\n",
    "model_name = \"BAAI/bge-reranker-base\"\n",
    "model_kwargs = {'device': 'cuda'}\n",
    "hf = HuggingFaceCrossEncoder(\n",
    "    model_name=model_name,\n",
    "    model_kwargs=model_kwargs\n",
    ")\n",
    "compressor = CrossEncoderReranker(model=hf, top_n=4)\n",
    "compression_retriever = ContextualCompressionRetriever(\n",
    "    base_compressor=compressor, base_retriever=retriever\n",
    ")"
   ]
  },
  {
   "cell_type": "code",
   "execution_count": 13,
   "metadata": {},
   "outputs": [
    {
     "data": {
      "text/plain": [
       "[Document(page_content='TS. Trần Tiến Công \\nHọ và tên: \\n \\nTRẦN TIẾN CÔNG \\n \\nĐịa chỉ làm việc: \\n \\nHọc viện Công ngh ệ Bưu chính Vi ễn thông \\n \\nEmail: \\n \\ncongtt@ptit.edu.vn  \\n \\nLink Profile:', metadata={'Source': 'Trang 1, Tài Liệu: câu lạc bộ - CLB Kinh Tế', '_id': '791d58e0-e0c5-47a7-9154-377d444751c7', '_collection_name': 'Ami'}),\n",
       " Document(page_content='Youtube: https://www.youtube.com/channel/UCdOcZv16XwUi7bhawqPjV9g  \\n    Email: clblaptrinhptit@gmail.com  \\n       Phone: 0964 002 140', metadata={'Source': 'Trang 1, Tài Liệu: câu lạc bộ - CLB Kinh Tế', '_id': '20443fb7-2159-4cbc-bac2-fd88eb5d82b9', '_collection_name': 'Ami'}),\n",
       " Document(page_content='thoại: \\xa0\\xa0\\xa0 028.38297220 Fanpage: \\xa0\\xa0\\xa0\\xa0\\xa0\\xa0 https://www.facebook.com/ptithochiminh Email: \\xa0\\xa0\\xa0\\xa0\\xa0\\xa0\\xa0\\xa0\\xa0\\xa0\\xa0 tuyensinh@ptithcm.edu.vn', metadata={'Date': '24/07/2023', 'Source': 'https://portal.ptit.edu.vn/hoc-vien-cong-nghe-buu-chinh-vien-thong-thong-bao-nguong-dam-bao-chat-luong-dau-vao-trinh-do-dai-hoc-he-cq-nam-2023-theo-phuong-thuc-xet-tuyen-dua-vao-ket-qua-thi-tot-nghiep-thpt/', '_id': '50e3f3e3-ca8b-4ff3-8e1d-e296d52b00b5', '_collection_name': 'Ami'}),\n",
       " Document(page_content='PGS. TS. Ph ạm Văn Cư ờng \\nHọ và tên: \\n \\nPHẠM VĂN CƯ ỜNG \\n \\nĐịa chỉ làm việc: \\n \\nKhoa Công ngh ệ thông tin - Học viện Công ngh ệ Bưu chính Vi ễn thông \\n \\nEmail: \\n \\ncuongpv@ptit.edu.vn  \\n \\nLink Profile:  \\n \\n \\nCác môn gi ảng dạy \\n \\nAdvanced Embedded Systems (for PhD students), Computer Vision (for \\ngraduates), Microprocessors, Computer Architecture, Algorithms, Database, \\nEmbedded Systems, Selected Topics on Information Systems (for undergrads)  \\n \\nHướng nghiên c ứu \\n \\nQuá trình đào t ạo \\n- 1998: BS. Khoa h ọc Máy tính, Đ ại học Quốc gia Hà N ội, Việt Nam \\n- 2005: Th.S. Khoa h ọc Máy tính, Đ ại học Bang New Mexico, Las Cruces, Hoa \\nKỳ [luận án \"Extending Graphplan to Handle Resources\", đư ợc cố vấn bởi \\nGiáo sư Tr ần Cao Sơn]  \\n- 2012: Ti ến sĩ Khoa h ọc Máy tính, Đ ại học Newcastle, Newcastle Upon \\nTyne, Vương qu ốc Anh [lu ận án \"Human Activity Recognition for Pervasive \\nInteraction\", đư ợc hướng dẫn bởi Giáo sư Patrick Olivier và Giáo sư \\nThomas Ploetz (Vi ện Công ngh ệ Georgia)]', metadata={'Source': 'Trang 1, Tài Liệu: câu lạc bộ - CLB Kinh Tế', '_id': '13b44c03-56fa-4fab-89e3-1857652e835d', '_collection_name': 'Ami'})]"
      ]
     },
     "execution_count": 13,
     "metadata": {},
     "output_type": "execute_result"
    }
   ],
   "source": [
    "text = compression_retriever.get_relevant_documents(\"Email thầy Trần Tiến Công là gì?\")\n",
    "text"
   ]
  },
  {
   "cell_type": "code",
   "execution_count": 14,
   "metadata": {},
   "outputs": [],
   "source": [
    "from langchain_community.retrievers import BM25Retriever\n",
    "\n",
    "_Content = [doc.page_content for doc in Data]\n",
    "bm25_retriever = BM25Retriever.from_texts(_Content, metadatas=[doc.metadata for doc in Data])\n",
    "bm25_retriever.k = 20"
   ]
  },
  {
   "cell_type": "code",
   "execution_count": 15,
   "metadata": {},
   "outputs": [],
   "source": [
    "from langchain.retrievers import EnsembleRetriever\n",
    "\n",
    "ensemble_retriever = EnsembleRetriever(retrievers=[bm25_retriever, retriever], weights=[0.5, 0.5])\n"
   ]
  },
  {
   "cell_type": "code",
   "execution_count": 16,
   "metadata": {},
   "outputs": [],
   "source": [
    "compression_retriever = ContextualCompressionRetriever(\n",
    "    base_compressor=compressor, base_retriever=ensemble_retriever\n",
    ")"
   ]
  },
  {
   "cell_type": "code",
   "execution_count": 18,
   "metadata": {},
   "outputs": [
    {
     "data": {
      "text/plain": [
       "[Document(page_content='BAN GIÁM Đ ỐC HỌC VIỆN CÔNG NGH Ệ BƯU CHÍNH VI ỄN THÔNG \\nGiám đốc Học viện PGS.TS. Đ ặng Hoài B ắc', metadata={'Source': 'Trang 1, Tài Liệu: câu lạc bộ - CLB Kinh Tế', '_id': '22d01535-780b-4ea3-9c5b-170174c17bbf', '_collection_name': 'Ami'}),\n",
       " Document(page_content='II. BAN GIÁM Đ ỐC HỌC VIỆN: \\n1. Giám đ ốc Học viện: PGS.TS. Đ ặng Hoài B ắc \\nĐịa chỉ văn phòng: 122, Hoàng Qu ốc Việt, Cầu Giấy, Hà Nội \\nĐịa chỉ văn phòng: Km10 –Đường Nguyễn Trãi, Hà Đông, Hà N ội. \\n2. Phó Giám đ ốc: TS. Vũ Tu ấn Lâm \\nĐịa chỉ văn phòng: Km10 –Đường Nguyễn Trãi, Hà Đông, Hà N ội. \\n3. Phó Giám đ ốc: PGS.TS. Tr ần Quang Anh  \\nĐịa chỉ văn phòng: 122, Hoàng Qu ốc Việt, Cầu Giấy, Hà Nội. \\n4. Phó Giám đ ốc: TS. Tân H ạnh (phụ trách Học viện Cơ sở tại TP. Hồ Chí \\nMinh) \\nĐịa chỉ văn phòng: S ố 11, Nguy ễn Đình Chi ểu, Quận 1, TP. H ồ Chí Minh', metadata={'Source': 'Trang 1, Tài Liệu: câu lạc bộ - CLB Kinh Tế', '_id': '94f4d25e-c3cd-484c-ae7b-04f27b4d583d', '_collection_name': 'Ami'}),\n",
       " Document(page_content='Học viện cơ sở thành phố Hồ Chí Minh tiếp và làm việc với Ban điều hành Quỹ ASEAN-IVO  Vừa qua, tại cơ sở đào tạo thành phố Hồ Chí Minh, trong khuôn khổ phiên họp của Ban điều hành Quỹ ASEAN-IVO (ICT Virtual Organization of ASEAN Institutes and NICT), Học viện Cơ sở tại Thành phố Hồ Chí Minh đã đón tiếp và có phiên làm việc với Ban điều hành Quỹ. Tham dự buổi làm việc có đại diện ban điều hành Quỹ ASEAN-IVO đến từ Viện NICT Nhật Bản và các nước Đông Nam Á như: Thái Lan, Singapore, Philippines, Myanmar, Malaysia, Lào, Indonesia, Cambodia và Brunei và Việt Nam. TS.Tân Hạnh, Phó Giám Đốc Học viện, Phụ trách cơ sở tại thành phố Hồ Chí Minh đã thay mặt tập thể Lãnh đạo Học viện chào mừng Ban điều hành và đề xuất các giải pháp hợp tác giữa Học viện cơ sở với viện NICT và các trường Đại học trong khu vực ASEAN, trong thời gian tới. Các đại biểu trong Ban điều hành cũng đã đưa ra các phương án hợp tác đầy triển vọng trong hợp tác giữa các bên trong tương lai. Kết thúc chương trình làm việc, Ban điều hành Quỹ ASEAN-IVO đã tham quan cơ sở vật chất của Học viện như: thư viện, phòng đọc, các phòng thí nghiệm và phòng học… Được biết, Dự án ASEAN-IVO được sáng lập bởi Viện Công Nghệ Thông Tin và Truyền Thông Quốc Gia Nhật Bản (NICT), trong đó Học viện Công nghệ Bưu chính Viễn thông là một trong những thành viên tích cực của Quỹ, và đã thực hiện nhiều dự án quan trọng. Đại diện của Học viện trong Ban điều hành của ASEAN-IVO là PGS. TSKH. Hoàng Đăng Hải, nguyên Phó Giám Đốc Học Viện. Tính đến thời điểm hiện tại, Học viện đã nhận được tài trợ từ Quỹ với số lượng dự án nhiều nhất trong số các trường đại học tại Việt Nam, với tổng giá trị hơn 240.000USD cho các dự án “Research and development on short distance communication and imaging for applications in ASEAN region” do GS.TS Võ Nguyễn Quốc Bảo chủ trì; Dự án “A Hybrid Security Framework for IoT Networks” do PGS.TSKH. Hoàng Đăng Hải chủ trì; và Dự án “Agricultural IoT based on Edge computing” do TS. Hoàng Trọng Minh chủ trì.', metadata={'Date': '08/03/2024', 'Source': 'https://portal.ptit.edu.vn/hoc-vien-co-so-thanh-pho-ho-chi-minh-tiep-va-lam-viec-voi-ban-dieu-hanh-quy-asean-ivo/'}),\n",
       " Document(page_content='Ông. Cao Xuân Hiển  Giám đốc  0902 348 899  \\n Ông. Lê Đình Hồ ng Phó Giám đốc  0919  038 822  \\n Ông. Nguyễn Mạnh Hùng  Phó Giám đốc  0903  416 217 \\n(*) Địa chỉ email của cán bộ, giảng viên trong Học viện được cấp theo nguyên tắc sau: tên+chữ cái \\nđầu (họ+đệm), viết không dấu. Ví dụ: email của PGS.TS. Lê Nhật Thăng : thangln @ptit.edu.vn ; \\ncủa PGS. TS. Nguyễn  Tiến Ban: bannt @ptit.edu.vn', metadata={'Source': 'Trang 1, Tài Liệu: câu lạc bộ - CLB Kinh Tế', '_id': '8151ded6-1ac7-454f-9e65-3f7b7fd4ddc5', '_collection_name': 'Ami'})]"
      ]
     },
     "execution_count": 18,
     "metadata": {},
     "output_type": "execute_result"
    },
    {
     "ename": "",
     "evalue": "",
     "output_type": "error",
     "traceback": [
      "\u001b[1;31mThe Kernel crashed while executing code in the current cell or a previous cell. \n",
      "\u001b[1;31mPlease review the code in the cell(s) to identify a possible cause of the failure. \n",
      "\u001b[1;31mClick <a href='https://aka.ms/vscodeJupyterKernelCrash'>here</a> for more info. \n",
      "\u001b[1;31mView Jupyter <a href='command:jupyter.viewOutput'>log</a> for further details."
     ]
    }
   ],
   "source": [
    "text = compression_retriever.get_relevant_documents(\"Giám Đốc Học Viện Là Ai?\")\n",
    "text"
   ]
  }
 ],
 "metadata": {
  "kernelspec": {
   "display_name": "agent",
   "language": "python",
   "name": "python3"
  },
  "language_info": {
   "codemirror_mode": {
    "name": "ipython",
    "version": 3
   },
   "file_extension": ".py",
   "mimetype": "text/x-python",
   "name": "python",
   "nbconvert_exporter": "python",
   "pygments_lexer": "ipython3",
   "version": "3.1.undefined"
  }
 },
 "nbformat": 4,
 "nbformat_minor": 2
}
